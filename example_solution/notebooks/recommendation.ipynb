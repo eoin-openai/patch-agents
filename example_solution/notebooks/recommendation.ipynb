{
 "cells": [
  {
   "cell_type": "markdown",
   "id": "42655530",
   "metadata": {},
   "source": [
    "## Eval results\n",
    "```\n",
    "         agent_type  intent_accuracy  category_accuracy  mean_response_grade\n",
    "0  AgentType.SINGLE             0.92               1.00                 6.52\n",
    "1   AgentType.MULTI             0.76               0.76                 6.40\n",
    "```\n",
    "\n",
    "## Recommendation\n",
    "Based on these results, we would recommend the single-agent system to the customer.\n",
    "\n",
    "Despite the slightly higher response grade for the multi-agent system, the single agent system saw noticeably higher intent and category accuracy,\n",
    "which outweighs the response grade. This recommendation holds even more when we consider that the multi-agent system will typically have higher latencies and\n",
    "use more tokens for the agent handoffs. When porting to a production system, it's important to measure how these metrics change as the system scales with\n",
    "more categories and intents. At some point, the multi-agent system will likely win out on accuracy as the number of support areas becomes too high for a single\n",
    "agent to manage.\n",
    "Additionally, before rolling out the single agent system, it's important to add in guardrails (some of which are already present in the multi-agent system)."
   ]
  }
 ],
 "metadata": {
  "language_info": {
   "name": "python"
  }
 },
 "nbformat": 4,
 "nbformat_minor": 5
}
